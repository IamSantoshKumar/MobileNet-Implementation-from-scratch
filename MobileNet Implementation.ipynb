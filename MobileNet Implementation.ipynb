{
 "cells": [
  {
   "cell_type": "code",
   "execution_count": 5,
   "id": "ec20a0aa",
   "metadata": {},
   "outputs": [],
   "source": [
    "import torch\n",
    "import torch.nn as nn"
   ]
  },
  {
   "cell_type": "code",
   "execution_count": 6,
   "id": "aa0714e8",
   "metadata": {},
   "outputs": [],
   "source": [
    "class DepthWiseConv2d(nn.Module):\n",
    "    def __init__(self, in_channels=3, out_channels=3, stride=1):\n",
    "        super(DepthWiseConv2d, self).__init__()\n",
    "        self.model = nn.Sequential(\n",
    "                nn.Conv2d(\n",
    "                in_channels=in_channels,\n",
    "                out_channels=in_channels,\n",
    "                kernel_size=(3,3),\n",
    "                stride=stride,\n",
    "                padding=1,\n",
    "                groups=in_channels,\n",
    "                bias=False\n",
    "                ),\n",
    "                nn.BatchNorm2d(in_channels),\n",
    "                nn.ReLU(),\n",
    "                nn.Conv2d(in_channels=in_channels, out_channels=out_channels, kernel_size=(1, 1), stride=1, padding=0, bias=False),\n",
    "                nn.BatchNorm2d(out_channels),\n",
    "                nn.ReLU()\n",
    "        )\n",
    "        \n",
    "    def forward(self, feature):\n",
    "        X = self.model(feature)\n",
    "        return X\n",
    "\n",
    "    \n",
    "class Conv2D(nn.Module):\n",
    "    def __init__(self, in_channels, out_channels, stride=2):\n",
    "        super(Conv2D, self).__init__()\n",
    "        self.model = nn.Sequential(\n",
    "                        nn.Conv2d(\n",
    "                        in_channels=in_channels,\n",
    "                        out_channels=out_channels,\n",
    "                        kernel_size=(3,3), \n",
    "                        stride=stride, \n",
    "                        padding=1,\n",
    "                        bias=False\n",
    "                        ),                    \n",
    "                        nn.BatchNorm2d(out_channels),\n",
    "                        nn.ReLU()\n",
    "        )\n",
    "        \n",
    "    def forward(self, feature):\n",
    "        X = self.model(feature)\n",
    "        return X\n"
   ]
  },
  {
   "cell_type": "code",
   "execution_count": 7,
   "id": "5e246b29",
   "metadata": {},
   "outputs": [],
   "source": [
    "class MobileNet(nn.Module):\n",
    "    def __init__(self, image_channels, num_classes):\n",
    "        super(MobileNet, self).__init__()\n",
    "        self.image_channels = image_channels\n",
    "        self.num_classes = num_classes\n",
    "        self.avg_pool = nn.AdaptiveAvgPool2d(1)\n",
    "        self.linear = nn.Linear(in_features=1024, out_features=self.num_classes) \n",
    "        self.layer1 = Conv2D(self.image_channels, 32)\n",
    "        self.layer2 = nn.Sequential(   \n",
    "                        DepthWiseConv2d(32, 64, 1),\n",
    "                        DepthWiseConv2d(64, 128, 2),\n",
    "                        DepthWiseConv2d(128, 128, 1),\n",
    "                        DepthWiseConv2d(128, 256, 2),\n",
    "                        DepthWiseConv2d(256, 256, 1),\n",
    "                        DepthWiseConv2d(256, 512, 2),\n",
    "                        DepthWiseConv2d(512, 512, 1),\n",
    "                        DepthWiseConv2d(512, 512, 1),\n",
    "                        DepthWiseConv2d(512, 512, 1),\n",
    "                        DepthWiseConv2d(512, 512, 1),\n",
    "                        DepthWiseConv2d(512, 512, 1),\n",
    "                        DepthWiseConv2d(512, 1024, 2),\n",
    "                        DepthWiseConv2d(1024, 1024, 1)\n",
    "        )\n",
    "    \n",
    "    def forward(self, x):\n",
    "        x = self.layer1(x)\n",
    "        x = self.layer2(x)\n",
    "        x = self.avg_pool(x)\n",
    "        x = x.view(x.shape[0], -1)\n",
    "        x = self.linear(x)\n",
    "        return x        "
   ]
  },
  {
   "cell_type": "code",
   "execution_count": 8,
   "id": "3cb8d7bc",
   "metadata": {},
   "outputs": [
    {
     "data": {
      "text/plain": [
       "torch.Size([1, 1000])"
      ]
     },
     "execution_count": 8,
     "metadata": {},
     "output_type": "execute_result"
    }
   ],
   "source": [
    "x = torch.randn(1, 3, 224, 224)\n",
    "model = MobileNet(3, 1000)\n",
    "model(x).shape"
   ]
  },
  {
   "cell_type": "code",
   "execution_count": 9,
   "id": "51bc2be5",
   "metadata": {},
   "outputs": [
    {
     "data": {
      "text/plain": [
       "4231976"
      ]
     },
     "execution_count": 9,
     "metadata": {},
     "output_type": "execute_result"
    }
   ],
   "source": [
    "sum([p.numel() for p in model.parameters() if p.requires_grad])"
   ]
  },
  {
   "cell_type": "code",
   "execution_count": null,
   "id": "f5f968eb",
   "metadata": {},
   "outputs": [],
   "source": []
  }
 ],
 "metadata": {
  "kernelspec": {
   "display_name": "Python 3",
   "language": "python",
   "name": "python3"
  },
  "language_info": {
   "codemirror_mode": {
    "name": "ipython",
    "version": 3
   },
   "file_extension": ".py",
   "mimetype": "text/x-python",
   "name": "python",
   "nbconvert_exporter": "python",
   "pygments_lexer": "ipython3",
   "version": "3.7.10"
  }
 },
 "nbformat": 4,
 "nbformat_minor": 5
}
